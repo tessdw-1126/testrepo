{
  "metadata": {
    "kernelspec": {
      "name": "python",
      "display_name": "Python (Pyodide)",
      "language": "python"
    },
    "language_info": {
      "codemirror_mode": {
        "name": "python",
        "version": 3
      },
      "file_extension": ".py",
      "mimetype": "text/x-python",
      "name": "python",
      "nbconvert_exporter": "python",
      "pygments_lexer": "ipython3",
      "version": "3.8"
    }
  },
  "nbformat_minor": 4,
  "nbformat": 4,
  "cells": [
    {
      "cell_type": "markdown",
      "source": "# Data Science Tools and Ecosystem",
      "metadata": {}
    },
    {
      "cell_type": "markdown",
      "source": "In this notebook, Data Science Tools and Ecosystem are summarized.",
      "metadata": {}
    },
    {
      "cell_type": "markdown",
      "source": "**Objectives:**\n\n- List popular languages for Data Science  \n- Understand key libraries used in Data Science  \n- Explore open-source development tools  \n- Learn basic Python operations for data handling  \n- Practice creating tables and formatting Markdown  ",
      "metadata": {}
    },
    {
      "cell_type": "markdown",
      "source": "**Some of the popular languages that Data Scientists use are:**\n1. Python\n2. R\n3. SQL\n4. Other common Language: Java, Scala, C++, JavaScript, and Julia",
      "metadata": {}
    },
    {
      "cell_type": "markdown",
      "source": "**Some of the commonly used libraries used by Data Scientists include:**\n1. NumPy – For numerical computations and handling arrays/matrices efficiently.\n2. Pandas – For data manipulation and analysis using DataFrames.\n3. Matplotlib – For basic data visualization (line plots, histograms, etc.).\n4. Seaborn – Built on Matplotlib, used for more advanced and aesthetically pleasing visualizations.\n5. Scikit-learn – For machine learning algorithms (classification, regression, clustering, etc.).",
      "metadata": {}
    },
    {
      "cell_type": "markdown",
      "source": "|**Data Science Tools**  |\n|:-----------------------|\n|Jupyter Notebook        |\n|RStudio                |\n|GitHub                 | \n",
      "metadata": {}
    },
    {
      "cell_type": "markdown",
      "source": "### Below are a few examples of evaluating arithmetic expressions in Python\n.",
      "metadata": {}
    },
    {
      "cell_type": "code",
      "source": "#This a simple arithmetic expression to mutiply then add integers\nout = (3*4)+5\nprint (\"output:\",out)",
      "metadata": {
        "trusted": true
      },
      "outputs": [
        {
          "name": "stdout",
          "text": "output: 17\n",
          "output_type": "stream"
        }
      ],
      "execution_count": 10
    },
    {
      "cell_type": "code",
      "source": "#This will convert 200 minutes to hours by diving by 60\nhrs = round(200/60,2)\nprint (\"200 mins =\",hrs,\"hrs\")",
      "metadata": {
        "trusted": true
      },
      "outputs": [
        {
          "name": "stdout",
          "text": "200 mins = 3.33 hrs\n",
          "output_type": "stream"
        }
      ],
      "execution_count": 12
    },
    {
      "cell_type": "markdown",
      "source": "## Author\nMarites Wakabayashi",
      "metadata": {}
    },
    {
      "cell_type": "code",
      "source": "",
      "metadata": {
        "trusted": true
      },
      "outputs": [],
      "execution_count": null
    }
  ]
}